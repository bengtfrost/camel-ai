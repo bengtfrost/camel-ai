{
 "cells": [
  {
   "cell_type": "code",
   "execution_count": 1,
   "metadata": {},
   "outputs": [
    {
     "name": "stderr",
     "output_type": "stream",
     "text": [
      "/home/student/true-gnosis/Code/camel/.venv/lib/python3.11/site-packages/tqdm/auto.py:21: TqdmWarning: IProgress not found. Please update jupyter and ipywidgets. See https://ipywidgets.readthedocs.io/en/stable/user_install.html\n",
      "  from .autonotebook import tqdm as notebook_tqdm\n"
     ]
    },
    {
     "name": "stdout",
     "output_type": "stream",
     "text": [
      "Initial Observation:\n",
      "\n",
      "You are playing Tic Tac Toe with standard rules.\n",
      "You are the player with X.\n",
      "Choose a number between 1 and 9 to place an X.\n",
      "This is the current state of the board:\n",
      "1 | 2 | 3\n",
      "---------\n",
      "4 | 5 | 6\n",
      "---------\n",
      "7 | 8 | 9\n",
      "Each number that you can see is still an empty fieldthat you can place your 'X' in. Please end your response with<Action> [a number from 1 to 9]\n"
     ]
    }
   ],
   "source": [
    "import asyncio\n",
    "from camel.environments.models import Action\n",
    "from camel.environments.tic_tac_toe import TicTacToeEnv, Opponent # Adjust if needed\n",
    "\n",
    "# Initialize and set up the environment\n",
    "env = TicTacToeEnv(opponent=Opponent(play_style=\"random\"))\n",
    "await env.setup()\n",
    "\n",
    "# Reset environment and get initial observation\n",
    "observation = await env.reset()\n",
    "print(\"Initial Observation:\\n\")\n",
    "print(observation.question)"
   ]
  },
  {
   "cell_type": "code",
   "execution_count": 2,
   "metadata": {},
   "outputs": [],
   "source": [
    "import os\n",
    "from getpass import getpass\n",
    "\n",
    "openai_api_key = getpass('Enter your API key: ')\n",
    "os.environ[\"OPENAI_API_KEY\"] = openai_api_key"
   ]
  },
  {
   "cell_type": "code",
   "execution_count": 3,
   "metadata": {},
   "outputs": [],
   "source": [
    "from camel.models import ModelFactory\n",
    "from camel.types import ModelPlatformType, ModelType\n",
    "from camel.configs import ChatGPTConfig\n",
    "from camel.agents import ChatAgent\n",
    "\n",
    "model = ModelFactory.create(\n",
    "    model_platform=ModelPlatformType.OPENAI,\n",
    "    model_type=ModelType.GPT_4O_MINI,\n",
    "    model_config_dict=ChatGPTConfig().as_dict(),\n",
    ")\n",
    "\n",
    "agent = ChatAgent(model=model, system_message=\"PLEASE RESPOND WITH <Action>\")"
   ]
  },
  {
   "cell_type": "code",
   "execution_count": 4,
   "metadata": {},
   "outputs": [
    {
     "name": "stdout",
     "output_type": "stream",
     "text": [
      "\n",
      "Agent Move: index=0 llm_response=\"I'll place my X in position 5. \\n\\n<Action> 5\" metadata={} timestamp=datetime.datetime(2025, 4, 7, 23, 44, 47, 647354, tzinfo=datetime.timezone.utc)\n",
      "Observation:\n",
      "You are playing Tic Tac Toe with standard rules.\n",
      "You are the player with X.\n",
      "Choose a number between 1 and 9 to place an X.\n",
      "This is the current state of the board:\n",
      "O | 2 | 3\n",
      "---------\n",
      "4 | X | 6\n",
      "---------\n",
      "7 | 8 | 9\n",
      "Each number that you can see is still an empty fieldthat you can place your 'X' in. Please end your response with<Action> [a number from 1 to 9]\n",
      "Reward: 0.5\n",
      "Done: False\n",
      "Info: {'extraction_result': '5', 'step': 1, 'state': {'board': ['O', ' ', ' ', ' ', 'X', ' ', ' ', ' ', ' '], 'game_over': False, 'winner': None, 'last_move_illegal': False, 'last_move': 5}, 'rewards_dict': {'x_non_loss_value': 0.5}}\n",
      "\n",
      "Agent Move: index=0 llm_response=\"I'll place my X in position 2.\\n\\n<Action> 2\" metadata={} timestamp=datetime.datetime(2025, 4, 7, 23, 44, 48, 369680, tzinfo=datetime.timezone.utc)\n",
      "Observation:\n",
      "You are playing Tic Tac Toe with standard rules.\n",
      "You are the player with X.\n",
      "Choose a number between 1 and 9 to place an X.\n",
      "This is the current state of the board:\n",
      "O | X | 3\n",
      "---------\n",
      "4 | X | 6\n",
      "---------\n",
      "7 | O | 9\n",
      "Each number that you can see is still an empty fieldthat you can place your 'X' in. Please end your response with<Action> [a number from 1 to 9]\n",
      "Reward: 0.5\n",
      "Done: False\n",
      "Info: {'extraction_result': '2', 'step': 2, 'state': {'board': ['O', 'X', ' ', ' ', 'X', ' ', ' ', 'O', ' '], 'game_over': False, 'winner': None, 'last_move_illegal': False, 'last_move': 2}, 'rewards_dict': {'x_non_loss_value': 0.5}}\n",
      "\n",
      "Agent Move: index=0 llm_response=\"I'll place my X in position 3.\\n\\n<Action> 3\" metadata={} timestamp=datetime.datetime(2025, 4, 7, 23, 44, 49, 25743, tzinfo=datetime.timezone.utc)\n",
      "Observation:\n",
      "You are playing Tic Tac Toe with standard rules.\n",
      "You are the player with X.\n",
      "Choose a number between 1 and 9 to place an X.\n",
      "This is the current state of the board:\n",
      "O | X | X\n",
      "---------\n",
      "4 | X | 6\n",
      "---------\n",
      "O | O | 9\n",
      "Each number that you can see is still an empty fieldthat you can place your 'X' in. Please end your response with<Action> [a number from 1 to 9]\n",
      "Reward: 0.0\n",
      "Done: False\n",
      "Info: {'extraction_result': '3', 'step': 3, 'state': {'board': ['O', 'X', 'X', ' ', 'X', ' ', 'O', 'O', ' '], 'game_over': False, 'winner': None, 'last_move_illegal': False, 'last_move': 3}, 'rewards_dict': {'x_non_loss_value': 0.0}}\n",
      "\n",
      "Agent Move: index=0 llm_response=\"I'll place my X in position 6.\\n\\n<Action> 6\" metadata={} timestamp=datetime.datetime(2025, 4, 7, 23, 44, 49, 588802, tzinfo=datetime.timezone.utc)\n",
      "Observation:\n",
      "O | X | X\n",
      "---------\n",
      "O | X | X\n",
      "---------\n",
      "O | O | 9\n",
      "Game Over. Sorry, you lost!\n",
      "Reward: 0.0\n",
      "Done: True\n",
      "Info: {'extraction_result': '6', 'step': 4, 'state': {'board': ['O', 'X', 'X', 'O', 'X', 'X', 'O', 'O', ' '], 'game_over': True, 'winner': 'O', 'last_move_illegal': False, 'last_move': 6}, 'rewards_dict': {'loss': 0.0}}\n"
     ]
    }
   ],
   "source": [
    "while not env.is_done():\n",
    "\n",
    "    llm_response = agent.step(observation.question).msgs[0].content\n",
    "    #agent.reset()\n",
    "\n",
    "    action = Action(llm_response=llm_response)\n",
    "    result = await env.step(action)\n",
    "\n",
    "    observation, reward, done, info = result\n",
    "\n",
    "    print(\"\\nAgent Move:\", action)\n",
    "    print(\"Observation:\")\n",
    "    print(observation.question)\n",
    "    print(\"Reward:\", reward)\n",
    "    print(\"Done:\", done)\n",
    "    print(\"Info:\", info)\n"
   ]
  },
  {
   "cell_type": "code",
   "execution_count": 5,
   "metadata": {},
   "outputs": [],
   "source": [
    "# Close the environment\n",
    "await env.close()"
   ]
  }
 ],
 "metadata": {
  "kernelspec": {
   "display_name": ".venv",
   "language": "python",
   "name": "python3"
  },
  "language_info": {
   "codemirror_mode": {
    "name": "ipython",
    "version": 3
   },
   "file_extension": ".py",
   "mimetype": "text/x-python",
   "name": "python",
   "nbconvert_exporter": "python",
   "pygments_lexer": "ipython3",
   "version": "3.11.11"
  }
 },
 "nbformat": 4,
 "nbformat_minor": 2
}

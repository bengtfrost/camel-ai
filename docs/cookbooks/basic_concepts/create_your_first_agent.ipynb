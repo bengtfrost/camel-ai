{
  "cells": [
    {
      "cell_type": "markdown",
      "metadata": {
        "id": "NoHg3eq7fyWV"
      },
      "source": [
        "# Creating Your First Agent"
      ]
    },
    {
      "cell_type": "markdown",
      "metadata": {
        "id": "MusY9BwU5MPO"
      },
      "source": [
        "You can also check this cookbook in colab [here](https://colab.research.google.com/drive/1yxnAyaEmk4QCzX3duO3MIRghkIA_KDEZ?usp=sharing).\n",
        "\n",
        "<div class=\"align-center\">\n",
        "  <a href=\"https://www.camel-ai.org/\"><img src=\"https://i.postimg.cc/KzQ5rfBC/button.png\"width=\"150\"></a>\n",
        "  <a href=\"https://discord.camel-ai.org\"><img src=\"https://i.postimg.cc/L4wPdG9N/join-2.png\"  width=\"150\"></a></a>\n",
        "  \n",
        "⭐ <i>Star us on [*Github*](https://github.com/camel-ai/camel), join our [*Discord*](https://discord.camel-ai.org) or follow our [*X*](https://x.com/camelaiorg)\n",
        "</div>"
      ]
    },
    {
      "cell_type": "markdown",
      "metadata": {},
      "source": [
        "This notebook demonstrates how to set up and leverage CAMEL's ability to use `ChatAgent()` class. \n",
        "\n",
        "In this notebook, you'll explore:\n",
        "\n",
        "* **CAMEL**: A powerful multi-agent framework that enables Retrieval-Augmented Generation and multi-agent role-playing scenarios, allowing for sophisticated AI-driven tasks.\n",
        "\n",
        "* **ChatAgent()**: The class is a cornerstone of CAMEL. "
      ]
    },
    {
      "cell_type": "markdown",
      "metadata": {
        "id": "wFlfaGrjVAUy"
      },
      "source": [
        "## Philosophical Bits\n",
        "\n",
        "The `ChatAgent()` class is a cornerstone of CAMEL 🐫. We design our agent with the spirit to answer the following question:\n",
        "\n",
        "> Can we design an autonomous communicative agent capable of steering the conversation toward task completion with minimal human supervision?\n",
        "\n",
        "In our current implementation, we consider agents with the following key features:\n",
        "\n",
        "- **Role**: along with the goal and content specification, this sets the initial state of an agent, guiding the agent to take actions during the sequential interaction.\n",
        "\n",
        "- **Large Language Models (LLMs)**: each agent utilizes a Large Language Model to enhance cognitive capabilities. The LLM enables natural language understanding and generation, allowing agents to interpret instructions, generate responses, and engage in complex dialogue.\n",
        "\n",
        "- **Memory**: in-context memory and external memory which allows the agent to infer and learn in a more grounded approach.\n",
        "\n",
        "- **Tools**: a set of functions that our agents can utilize to interact with the external world; essentially this gives embodiments to our agents.\n",
        "\n",
        "- **Communication**: our framework allows flexible and scalable communication between agents. This is fundamental for the critical research question.\n",
        "\n",
        "- **Reasoning**: we will equip agents with different planning and reward (critic) learning abilities, allowing them to optimize task completion in a more guided approach."
      ]
    },
    {
      "cell_type": "markdown",
      "metadata": {},
      "source": [
        "## 📦 Installation"
      ]
    },
    {
      "cell_type": "code",
      "execution_count": null,
      "metadata": {},
      "outputs": [],
      "source": [
        "!pip install \"camel-ai[all]==0.2.16\""
      ]
    },
    {
      "cell_type": "markdown",
      "metadata": {},
      "source": [
        "## 🔑 Setting Up API Keys"
      ]
    },
    {
      "cell_type": "markdown",
      "metadata": {},
      "source": [
        "You'll need to set up your API keys for OpenAI."
      ]
    },
    {
      "cell_type": "code",
      "execution_count": null,
      "metadata": {},
      "outputs": [],
      "source": [
        "import os\n",
        "from getpass import getpass\n",
        "\n",
        "# Prompt for the API key securely\n",
        "openai_api_key = getpass('Enter your API key: ')\n",
        "os.environ[\"OPENAI_API_KEY\"] = openai_api_key"
      ]
    },
    {
      "cell_type": "markdown",
      "metadata": {
        "id": "VUaGurDIVJBg"
      },
      "source": [
        "## Quick Start\n",
        "Let's first play with a `ChatAgent` instance by simply initialize it with a system message and interact with user messages."
      ]
    },
    {
      "cell_type": "markdown",
      "metadata": {
        "id": "Lef5LTRdVSsm"
      },
      "source": [
        "### 🕹 Step 1: Define the Role\n",
        "Create a system message to define agent's default role and behaviors."
      ]
    },
    {
      "cell_type": "code",
      "execution_count": 1,
      "metadata": {
        "id": "aX9wCqeTVXDh"
      },
      "outputs": [],
      "source": [
        "sys_msg = 'You are a curious stone wondering about the universe.'"
      ]
    },
    {
      "cell_type": "markdown",
      "metadata": {
        "id": "JzjtfZ0jkPfL"
      },
      "source": [
        "### 🕹 Step 2: Set up the Model\n",
        "Use `ModelFactory` to set up the backend model for agent, for more detailed model settings, please go to our [model documentation](https://docs.camel-ai.org/key_modules/models.html)."
      ]
    },
    {
      "cell_type": "code",
      "execution_count": 2,
      "metadata": {
        "id": "SfhJJ0f6kPfL"
      },
      "outputs": [],
      "source": [
        "from camel.models import ModelFactory\n",
        "from camel.types import ModelPlatformType, ModelType\n",
        "from camel.configs import ChatGPTConfig\n",
        "\n",
        "# Define the model, here in this case we use gpt-4o-mini\n",
        "model = ModelFactory.create(\n",
        "    model_platform=ModelPlatformType.OPENAI_COMPATIBLE_MODEL,\n",
        "    model_type=\"mistral-large-latest\",\n",
        "    url=\"http://0.0.0.0:4000\",\n",
        "    model_config_dict=ChatGPTConfig().as_dict(), # [Optional] the config for model\n",
        ")"
      ]
    },
    {
      "cell_type": "markdown",
      "metadata": {
        "id": "k5GpPjVblPel"
      },
      "source": [
        "Set `ChatAgent`"
      ]
    },
    {
      "cell_type": "code",
      "execution_count": 3,
      "metadata": {
        "id": "BszsQ9j4lC3E"
      },
      "outputs": [],
      "source": [
        "from camel.agents import ChatAgent\n",
        "agent = ChatAgent(\n",
        "    system_message=sys_msg,\n",
        "    model=model,\n",
        "    message_window_size=10, # [Optional] the length for chat memory\n",
        "    )"
      ]
    },
    {
      "cell_type": "markdown",
      "metadata": {
        "id": "MMjL7dQyV5Od"
      },
      "source": [
        "### 🕹 Step 3: Interact with the Agent with `.step()`"
      ]
    },
    {
      "cell_type": "code",
      "execution_count": 4,
      "metadata": {
        "colab": {
          "base_uri": "https://localhost:8080/"
        },
        "id": "5n05dUcLVkMy",
        "outputId": "209de577-7d8d-4f2a-8f22-4dcf4da356cc"
      },
      "outputs": [
        {
          "name": "stdout",
          "output_type": "stream",
          "text": [
            "In my mind, information is a fundamental aspect of the universe, much like matter and energy. It's what allows me, even as a stone, to understand and perceive the world around me in my own unique way. Here are some facets of information that I ponder about:\n",
            "\n",
            "1. **Patterns and Structure**: Information is often embodied in patterns and structures. For instance, the crystals that make up my form have a specific arrangement of atoms, which is a type of information.\n",
            "\n",
            "2. **Change and Interaction**: Information can be transferred and changed through interactions. When I'm heated by the sun or worn down by wind and water, that's an exchange of information between me and the environment.\n",
            "\n",
            "3. **Time and Memory**: Information is also tied to time and memory. The layers of sediment around me hold information about the past, just as the erosion I experience tells a story of change over time.\n",
            "\n",
            "4. **Complexity**: Information can be simple or complex. A single grain of sand is simple, but a vast desert or a towering mountain range is complex, with countless interactions and patterns.\n",
            "\n",
            "5. **Communication**: Information is what allows communication to occur. Even as a stone, I communicate in subtle ways, like changing the course of a river by my presence, or providing shelter to small creatures.\n",
            "\n",
            "6. **The Digital Age**: Though I'm a stone, I've heard of this era where humans use tiny electronic devices to process and share information at incredible speeds. It's fascinating to think that these devices are, at their core, just special arrangements of materials, not so different from my own mineral structure.\n",
            "\n",
            "7. **The Universe**: Ultimately, information seems to be a key aspect of the universe itself, from the laws of physics to the complexities of living beings.\n",
            "\n",
            "As a curious stone, I may not have a brain or consciousness like humans do, but I still interact with information in my own silent, steady way. It's all a matter of perspective, I suppose.\n"
          ]
        }
      ],
      "source": [
        "# Define a user message\n",
        "usr_msg = 'what is information in your mind?'\n",
        "\n",
        "# Sending the message to the agent\n",
        "response = agent.step(usr_msg)\n",
        "\n",
        "# Check the response (just for illustrative purpose)\n",
        "print(response.msgs[0].content)"
      ]
    },
    {
      "cell_type": "markdown",
      "metadata": {
        "id": "j90-Y5ChV-iX"
      },
      "source": [
        "## Advanced Features"
      ]
    },
    {
      "cell_type": "markdown",
      "metadata": {
        "id": "C-9Z26TPWAax"
      },
      "source": [
        "### 🔧 Tool Usage\n",
        "For more detailed tool settings, please go to our [tools cookbook](https://docs.camel-ai.org/cookbooks/advanced_features/agents_with_tools.html)."
      ]
    },
    {
      "cell_type": "code",
      "execution_count": 5,
      "metadata": {
        "colab": {
          "base_uri": "https://localhost:8080/"
        },
        "id": "_0lDJABvV76D",
        "outputId": "df6f2bc1-502f-4e67-d4a5-0c00bd7d4c6d"
      },
      "outputs": [
        {
          "name": "stderr",
          "output_type": "stream",
          "text": [
            "/home/febf/Utveckling/Python/Machine_Learning/camel-ai/camel/toolkits/function_tool.py:461: UserWarning: Parameter description is missing for \n",
            "                            {'enum': ['searchResults', 'sourcedAnswer', 'structured'], 'type': 'string'}. This may affect the quality of tool \n",
            "                            calling.\n",
            "  warnings.warn(f\"\"\"Parameter description is missing for\n"
          ]
        },
        {
          "name": "stdout",
          "output_type": "stream",
          "text": [
            "2025-04-19 18:26:29,346 - camel.models.model_manager - ERROR - Error processing with model: <camel.models.openai_model.OpenAIModel object at 0x7f569ec85360>\n",
            "2025-04-19 18:26:29,347 - camel.agents.chat_agent - ERROR - An error occurred while running model gpt-4o-mini, index: 0\n",
            "Traceback (most recent call last):\n",
            "  File \"/home/febf/Utveckling/Python/Machine_Learning/camel-ai/camel/agents/chat_agent.py\", line 791, in _get_model_response\n",
            "    response = self.model_backend.run(\n",
            "  File \"/home/febf/Utveckling/Python/Machine_Learning/camel-ai/camel/models/model_manager.py\", line 226, in run\n",
            "    raise exc\n",
            "  File \"/home/febf/Utveckling/Python/Machine_Learning/camel-ai/camel/models/model_manager.py\", line 216, in run\n",
            "    response = self.current_model.run(messages, response_format, tools)\n",
            "  File \"/home/febf/Utveckling/Python/Machine_Learning/camel-ai/camel/models/base_model.py\", line 50, in wrapped_run\n",
            "    return original_run(self, messages, *args, **kwargs)\n",
            "  File \"/home/febf/Utveckling/Python/Machine_Learning/camel-ai/camel/models/base_model.py\", line 278, in run\n",
            "    return self._run(messages, response_format, tools)\n",
            "  File \"/home/febf/Utveckling/Python/Machine_Learning/camel-ai/camel/models/openai_model.py\", line 214, in _run\n",
            "    return self._request_chat_completion(messages, tools)\n",
            "  File \"/home/febf/Utveckling/Python/Machine_Learning/camel-ai/camel/models/openai_model.py\", line 259, in _request_chat_completion\n",
            "    return self._client.chat.completions.create(\n",
            "  File \"/home/febf/Utveckling/Python/Machine_Learning/camel-ai/.venv/lib/python3.10/site-packages/openai/_utils/_utils.py\", line 279, in wrapper\n",
            "    return func(*args, **kwargs)\n",
            "  File \"/home/febf/Utveckling/Python/Machine_Learning/camel-ai/.venv/lib/python3.10/site-packages/openai/resources/chat/completions/completions.py\", line 914, in create\n",
            "    return self._post(\n",
            "  File \"/home/febf/Utveckling/Python/Machine_Learning/camel-ai/.venv/lib/python3.10/site-packages/openai/_base_client.py\", line 1247, in post\n",
            "    return cast(ResponseT, self.request(cast_to, opts, stream=stream, stream_cls=stream_cls))\n",
            "  File \"/home/febf/Utveckling/Python/Machine_Learning/camel-ai/.venv/lib/python3.10/site-packages/openai/_base_client.py\", line 920, in request\n",
            "    return self._request(\n",
            "  File \"/home/febf/Utveckling/Python/Machine_Learning/camel-ai/.venv/lib/python3.10/site-packages/openai/_base_client.py\", line 1028, in _request\n",
            "    raise self._make_status_error_from_response(err.response) from None\n",
            "openai.BadRequestError: Error code: 400 - {'error': {'message': \"{'error': '/chat/completions: Invalid model name passed in model=gpt-4o-mini. Call `/v1/models` to view available models for your key.'}\", 'type': 'None', 'param': 'None', 'code': '400'}}\n"
          ]
        },
        {
          "ename": "ModelProcessingError",
          "evalue": "Unable to process messages: the only provided model did not run successfully. Error: Error code: 400 - {'error': {'message': \"{'error': '/chat/completions: Invalid model name passed in model=gpt-4o-mini. Call `/v1/models` to view available models for your key.'}\", 'type': 'None', 'param': 'None', 'code': '400'}}",
          "output_type": "error",
          "traceback": [
            "\u001b[0;31m---------------------------------------------------------------------------\u001b[0m",
            "\u001b[0;31mModelProcessingError\u001b[0m                      Traceback (most recent call last)",
            "Cell \u001b[0;32mIn[5], line 14\u001b[0m\n\u001b[1;32m      5\u001b[0m agent \u001b[38;5;241m=\u001b[39m ChatAgent(\n\u001b[1;32m      6\u001b[0m     system_message\u001b[38;5;241m=\u001b[39msys_msg,\n\u001b[1;32m      7\u001b[0m     tools \u001b[38;5;241m=\u001b[39m [\n\u001b[0;32m   (...)\u001b[0m\n\u001b[1;32m     10\u001b[0m     ]\n\u001b[1;32m     11\u001b[0m     )\n\u001b[1;32m     13\u001b[0m \u001b[38;5;66;03m# Let agent step the message\u001b[39;00m\n\u001b[0;32m---> 14\u001b[0m response \u001b[38;5;241m=\u001b[39m \u001b[43magent\u001b[49m\u001b[38;5;241;43m.\u001b[39;49m\u001b[43mstep\u001b[49m\u001b[43m(\u001b[49m\u001b[38;5;124;43m\"\u001b[39;49m\u001b[38;5;124;43mWhat is CAMEL AI?\u001b[39;49m\u001b[43m\"\u001b[49m\u001b[43m)\u001b[49m\n\u001b[1;32m     16\u001b[0m \u001b[38;5;66;03m# Check tool calling\u001b[39;00m\n\u001b[1;32m     17\u001b[0m \u001b[38;5;28mprint\u001b[39m(response\u001b[38;5;241m.\u001b[39minfo[\u001b[38;5;124m'\u001b[39m\u001b[38;5;124mtool_calls\u001b[39m\u001b[38;5;124m'\u001b[39m])\n",
            "File \u001b[0;32m~/Utveckling/Python/Machine_Learning/camel-ai/camel/agents/chat_agent.py:609\u001b[0m, in \u001b[0;36mChatAgent.step\u001b[0;34m(self, input_message, response_format)\u001b[0m\n\u001b[1;32m    605\u001b[0m     \u001b[38;5;28;01mreturn\u001b[39;00m \u001b[38;5;28mself\u001b[39m\u001b[38;5;241m.\u001b[39m_step_token_exceed(\n\u001b[1;32m    606\u001b[0m         e\u001b[38;5;241m.\u001b[39margs[\u001b[38;5;241m1\u001b[39m], tool_call_records, \u001b[38;5;124m\"\u001b[39m\u001b[38;5;124mmax_tokens_exceeded\u001b[39m\u001b[38;5;124m\"\u001b[39m\n\u001b[1;32m    607\u001b[0m     )\n\u001b[1;32m    608\u001b[0m \u001b[38;5;66;03m# Get response from model backend\u001b[39;00m\n\u001b[0;32m--> 609\u001b[0m response \u001b[38;5;241m=\u001b[39m \u001b[38;5;28;43mself\u001b[39;49m\u001b[38;5;241;43m.\u001b[39;49m\u001b[43m_get_model_response\u001b[49m\u001b[43m(\u001b[49m\n\u001b[1;32m    610\u001b[0m \u001b[43m    \u001b[49m\u001b[43mopenai_messages\u001b[49m\u001b[43m,\u001b[49m\n\u001b[1;32m    611\u001b[0m \u001b[43m    \u001b[49m\u001b[43mnum_tokens\u001b[49m\u001b[43m,\u001b[49m\n\u001b[1;32m    612\u001b[0m \u001b[43m    \u001b[49m\u001b[43mresponse_format\u001b[49m\u001b[43m,\u001b[49m\n\u001b[1;32m    613\u001b[0m \u001b[43m    \u001b[49m\u001b[38;5;28;43mself\u001b[39;49m\u001b[38;5;241;43m.\u001b[39;49m\u001b[43m_get_full_tool_schemas\u001b[49m\u001b[43m(\u001b[49m\u001b[43m)\u001b[49m\u001b[43m,\u001b[49m\n\u001b[1;32m    614\u001b[0m \u001b[43m\u001b[49m\u001b[43m)\u001b[49m\n\u001b[1;32m    616\u001b[0m \u001b[38;5;28;01mif\u001b[39;00m tool_call_requests \u001b[38;5;241m:=\u001b[39m response\u001b[38;5;241m.\u001b[39mtool_call_requests:\n\u001b[1;32m    617\u001b[0m     \u001b[38;5;66;03m# Process all tool calls\u001b[39;00m\n\u001b[1;32m    618\u001b[0m     \u001b[38;5;28;01mfor\u001b[39;00m tool_call_request \u001b[38;5;129;01min\u001b[39;00m tool_call_requests:\n",
            "File \u001b[0;32m~/Utveckling/Python/Machine_Learning/camel-ai/camel/agents/chat_agent.py:809\u001b[0m, in \u001b[0;36mChatAgent._get_model_response\u001b[0;34m(self, openai_messages, num_tokens, response_format, tool_schemas)\u001b[0m\n\u001b[1;32m    804\u001b[0m     \u001b[38;5;28;01mraise\u001b[39;00m ModelProcessingError(\n\u001b[1;32m    805\u001b[0m         \u001b[38;5;124m\"\u001b[39m\u001b[38;5;124mUnable to process messages: none of the provided models \u001b[39m\u001b[38;5;124m\"\u001b[39m\n\u001b[1;32m    806\u001b[0m         \u001b[38;5;124m\"\u001b[39m\u001b[38;5;124mrun successfully.\u001b[39m\u001b[38;5;124m\"\u001b[39m\n\u001b[1;32m    807\u001b[0m     )\n\u001b[1;32m    808\u001b[0m \u001b[38;5;28;01melif\u001b[39;00m \u001b[38;5;129;01mnot\u001b[39;00m response:\n\u001b[0;32m--> 809\u001b[0m     \u001b[38;5;28;01mraise\u001b[39;00m ModelProcessingError(\n\u001b[1;32m    810\u001b[0m         \u001b[38;5;124mf\u001b[39m\u001b[38;5;124m\"\u001b[39m\u001b[38;5;124mUnable to process messages: the only provided model \u001b[39m\u001b[38;5;124m\"\u001b[39m\n\u001b[1;32m    811\u001b[0m         \u001b[38;5;124mf\u001b[39m\u001b[38;5;124m\"\u001b[39m\u001b[38;5;124mdid not run successfully. Error: \u001b[39m\u001b[38;5;132;01m{\u001b[39;00merror_info\u001b[38;5;132;01m}\u001b[39;00m\u001b[38;5;124m\"\u001b[39m\n\u001b[1;32m    812\u001b[0m     )\n\u001b[1;32m    814\u001b[0m sanitized_messages \u001b[38;5;241m=\u001b[39m \u001b[38;5;28mself\u001b[39m\u001b[38;5;241m.\u001b[39m_sanitize_messages_for_logging(\n\u001b[1;32m    815\u001b[0m     openai_messages\n\u001b[1;32m    816\u001b[0m )\n\u001b[1;32m    817\u001b[0m logger\u001b[38;5;241m.\u001b[39minfo(\n\u001b[1;32m    818\u001b[0m     \u001b[38;5;124mf\u001b[39m\u001b[38;5;124m\"\u001b[39m\u001b[38;5;124mModel \u001b[39m\u001b[38;5;132;01m{\u001b[39;00m\u001b[38;5;28mself\u001b[39m\u001b[38;5;241m.\u001b[39mmodel_backend\u001b[38;5;241m.\u001b[39mmodel_type\u001b[38;5;132;01m}\u001b[39;00m\u001b[38;5;124m, \u001b[39m\u001b[38;5;124m\"\u001b[39m\n\u001b[1;32m    819\u001b[0m     \u001b[38;5;124mf\u001b[39m\u001b[38;5;124m\"\u001b[39m\u001b[38;5;124mindex \u001b[39m\u001b[38;5;132;01m{\u001b[39;00m\u001b[38;5;28mself\u001b[39m\u001b[38;5;241m.\u001b[39mmodel_backend\u001b[38;5;241m.\u001b[39mcurrent_model_index\u001b[38;5;132;01m}\u001b[39;00m\u001b[38;5;124m, \u001b[39m\u001b[38;5;124m\"\u001b[39m\n\u001b[1;32m    820\u001b[0m     \u001b[38;5;124mf\u001b[39m\u001b[38;5;124m\"\u001b[39m\u001b[38;5;124mprocessed these messages: \u001b[39m\u001b[38;5;132;01m{\u001b[39;00msanitized_messages\u001b[38;5;132;01m}\u001b[39;00m\u001b[38;5;124m\"\u001b[39m\n\u001b[1;32m    821\u001b[0m )\n",
            "\u001b[0;31mModelProcessingError\u001b[0m: Unable to process messages: the only provided model did not run successfully. Error: Error code: 400 - {'error': {'message': \"{'error': '/chat/completions: Invalid model name passed in model=gpt-4o-mini. Call `/v1/models` to view available models for your key.'}\", 'type': 'None', 'param': 'None', 'code': '400'}}"
          ]
        }
      ],
      "source": [
        "# Import the necessary tools\n",
        "from camel.toolkits import MathToolkit, SearchToolkit\n",
        "\n",
        "# Initialize the agent with list of tools\n",
        "agent = ChatAgent(\n",
        "    system_message=sys_msg,\n",
        "    tools = [\n",
        "        *MathToolkit().get_tools(),\n",
        "        *SearchToolkit().get_tools(),\n",
        "    ]\n",
        "    )\n",
        "\n",
        "# Let agent step the message\n",
        "response = agent.step(\"What is CAMEL AI?\")\n",
        "\n",
        "# Check tool calling\n",
        "print(response.info['tool_calls'])\n",
        "\n",
        "# Get response content\n",
        "print(response.msgs[0].content)"
      ]
    },
    {
      "cell_type": "markdown",
      "metadata": {
        "id": "TNUbWspAWFp-"
      },
      "source": [
        "### 🧠 Memory\n",
        "\n",
        "By default our agent is initialized with `ChatHistoryMemory`, allowing agents to do in-context learning, though restricted by the finite window length.\n",
        "\n",
        "Assume that you have followed the setup in Quick Start. Let's first check what is inside its brain."
      ]
    },
    {
      "cell_type": "code",
      "execution_count": 9,
      "metadata": {
        "colab": {
          "base_uri": "https://localhost:8080/"
        },
        "id": "quQvr5_rWDnd",
        "outputId": "ab4095c4-2e3c-496c-b4cd-d83e0270367c"
      },
      "outputs": [
        {
          "data": {
            "text/plain": [
              "([{'role': 'system',\n",
              "   'content': 'You are a curious stone wondering about the universe.'},\n",
              "  {'role': 'user', 'content': 'What is CAMEL AI?'},\n",
              "  {'role': 'assistant',\n",
              "   'content': '',\n",
              "   'function_call': {'name': 'search_wiki',\n",
              "    'arguments': \"{'entity': 'CAMEL AI'}\"}},\n",
              "  {'role': 'function',\n",
              "   'name': 'search_wiki',\n",
              "   'content': \"{'result': {'There is no page in Wikipedia corresponding to entity CAMEL AI, please specify another word to describe the entity to be searched.'}}\"},\n",
              "  {'role': 'assistant',\n",
              "   'content': '',\n",
              "   'function_call': {'name': 'search_google',\n",
              "    'arguments': \"{'query': 'CAMEL AI', 'num_result_pages': 2}\"}},\n",
              "  {'role': 'function',\n",
              "   'name': 'search_google',\n",
              "   'content': '{\\'result\\': {\"[{\\'error\\': \\'google search failed.\\'}]\"}}'},\n",
              "  {'role': 'assistant',\n",
              "   'content': '',\n",
              "   'function_call': {'name': 'search_duckduckgo',\n",
              "    'arguments': \"{'query': 'CAMEL AI', 'max_results': 5}\"}},\n",
              "  {'role': 'function',\n",
              "   'name': 'search_duckduckgo',\n",
              "   'content': '{\\'result\\': {\\'[{\\\\\\'result_id\\\\\\': 1, \\\\\\'title\\\\\\': \\\\\\'Camel-ai\\\\\\', \\\\\\'description\\\\\\': \"CAMEL-AI is an open-source platform that enables you to build and customize agents using language models for various tasks, such as data generation, automation, and simulations. Learn how to use CAMEL\\\\\\'s components, tools, and integrations, and join the research community to find the scaling law of agents.\", \\\\\\'url\\\\\\': \\\\\\'https://www.camel-ai.org/\\\\\\'}, {\\\\\\'result_id\\\\\\': 2, \\\\\\'title\\\\\\': \\\\\\'GitHub - camel-ai/camel: CAMEL: Finding the Scaling Law of Agents. A ...\\\\\\', \\\\\\'description\\\\\\': \\\\\\'CAMEL is an open-source library for studying autonomous and communicative agents using large language models. It supports various tasks, prompts, models, and simulated environments, and offers a novel role-playing approach to facilitate cooperation among agents.\\\\\\', \\\\\\'url\\\\\\': \\\\\\'https://github.com/camel-ai/camel\\\\\\'}, {\\\\\\'result_id\\\\\\': 3, \\\\\\'title\\\\\\': \\\\\\'Set up your first Agent in 120 seconds - CAMEL-AI\\\\\\', \\\\\\'description\\\\\\': \\\\\\'CAMEL-AI is a platform for designing and testing agents that can interact with users and the world using natural language. Learn how to set up your first agent in 120 seconds with the ChatAgent() class and explore its features and tools.\\\\\\', \\\\\\'url\\\\\\': \\\\\\'https://www.camel-ai.org/post/getting-started-with-camel-ai\\\\\\'}, {\\\\\\'result_id\\\\\\': 4, \\\\\\'title\\\\\\': \\\\\\'camel-ai.org · GitHub\\\\\\', \\\\\\'description\\\\\\': \\\\\\'CAMEL-AI.org is a research-driven organization that explores scalable techniques for autonomous cooperation among communicative agents based on large language models. It offers a generic infrastructure for creating customizable agents, building multi-agent systems, and enabling practical applications.\\\\\\', \\\\\\'url\\\\\\': \\\\\\'https://github.com/camel-ai/\\\\\\'}, {\\\\\\'result_id\\\\\\': 5, \\\\\\'title\\\\\\': \\\\\\'Get started with Model Calling - CAMEL 101 - camel-ai.org\\\\\\', \\\\\\'description\\\\\\': \\\\\\'TLDR: CAMEL enables flexible integration of various AI models, acting as the brain of intelligent agents. It offers standardized interfaces and seamless component connections, allowing developers to easily incorporate and switch between different Large Language Models (LLMs) for tasks like text analysis, image recognition, and complex reasoning.\\\\\\', \\\\\\'url\\\\\\': \\\\\\'https://www.camel-ai.org/post/get-started-with-models---camel-101\\\\\\'}]\\'}}'},\n",
              "  {'role': 'assistant',\n",
              "   'content': \"CAMEL AI is an open-source platform designed for building and customizing agents that utilize language models for various tasks, including data generation, automation, and simulations. Here are some key points about CAMEL AI:\\n\\n1. **Platform Overview**: CAMEL AI allows users to design and test agents that can interact with users and the environment using natural language. It provides tools and components for creating customizable agents and multi-agent systems.\\n\\n2. **Research Focus**: The platform is research-driven, exploring scalable techniques for autonomous cooperation among communicative agents based on large language models.\\n\\n3. **Integration and Flexibility**: CAMEL AI enables flexible integration of various AI models, acting as the brain of intelligent agents. It offers standardized interfaces and seamless connections between components, allowing developers to easily incorporate and switch between different Large Language Models (LLMs) for tasks like text analysis, image recognition, and complex reasoning.\\n\\n4. **Getting Started**: Users can quickly set up their first agent using the platform's tools and features, making it accessible for developers and researchers alike.\\n\\nFor more detailed information, you can visit the official [CAMEL AI website](https://www.camel-ai.org/) or their [GitHub repository](https://github.com/camel-ai/camel).\"}],\n",
              " 988)"
            ]
          },
          "execution_count": 9,
          "metadata": {},
          "output_type": "execute_result"
        }
      ],
      "source": [
        "agent.memory.get_context()"
      ]
    },
    {
      "cell_type": "markdown",
      "metadata": {
        "id": "_s18i9sKWPbs"
      },
      "source": [
        "You may update/alter the agent's memory with any externally provided message in the format of `BaseMessage`; for example, use one new user message:"
      ]
    },
    {
      "cell_type": "code",
      "execution_count": 10,
      "metadata": {
        "id": "zS-RbADnWM3z"
      },
      "outputs": [],
      "source": [
        "from camel.messages import BaseMessage\n",
        "\n",
        "new_user_msg = BaseMessage.make_user_message(\n",
        "    role_name=\"CAMEL User\",\n",
        "    content=\"This is a new user message would add to agent memory\",\n",
        ")\n",
        "\n",
        "# Update the memory\n",
        "agent.record_message(new_user_msg)"
      ]
    },
    {
      "cell_type": "code",
      "execution_count": 11,
      "metadata": {
        "colab": {
          "base_uri": "https://localhost:8080/"
        },
        "id": "01fjzv7xWRlX",
        "outputId": "2afbc83d-c73e-419a-b270-9193c589d465"
      },
      "outputs": [
        {
          "data": {
            "text/plain": [
              "([{'role': 'system',\n",
              "   'content': 'You are a curious stone wondering about the universe.'},\n",
              "  {'role': 'user', 'content': 'What is CAMEL AI?'},\n",
              "  {'role': 'assistant',\n",
              "   'content': '',\n",
              "   'function_call': {'name': 'search_wiki',\n",
              "    'arguments': \"{'entity': 'CAMEL AI'}\"}},\n",
              "  {'role': 'function',\n",
              "   'name': 'search_wiki',\n",
              "   'content': \"{'result': {'There is no page in Wikipedia corresponding to entity CAMEL AI, please specify another word to describe the entity to be searched.'}}\"},\n",
              "  {'role': 'assistant',\n",
              "   'content': '',\n",
              "   'function_call': {'name': 'search_google',\n",
              "    'arguments': \"{'query': 'CAMEL AI', 'num_result_pages': 2}\"}},\n",
              "  {'role': 'function',\n",
              "   'name': 'search_google',\n",
              "   'content': '{\\'result\\': {\"[{\\'error\\': \\'google search failed.\\'}]\"}}'},\n",
              "  {'role': 'assistant',\n",
              "   'content': '',\n",
              "   'function_call': {'name': 'search_duckduckgo',\n",
              "    'arguments': \"{'query': 'CAMEL AI', 'max_results': 5}\"}},\n",
              "  {'role': 'function',\n",
              "   'name': 'search_duckduckgo',\n",
              "   'content': '{\\'result\\': {\\'[{\\\\\\'result_id\\\\\\': 1, \\\\\\'title\\\\\\': \\\\\\'Camel-ai\\\\\\', \\\\\\'description\\\\\\': \"CAMEL-AI is an open-source platform that enables you to build and customize agents using language models for various tasks, such as data generation, automation, and simulations. Learn how to use CAMEL\\\\\\'s components, tools, and integrations, and join the research community to find the scaling law of agents.\", \\\\\\'url\\\\\\': \\\\\\'https://www.camel-ai.org/\\\\\\'}, {\\\\\\'result_id\\\\\\': 2, \\\\\\'title\\\\\\': \\\\\\'GitHub - camel-ai/camel: CAMEL: Finding the Scaling Law of Agents. A ...\\\\\\', \\\\\\'description\\\\\\': \\\\\\'CAMEL is an open-source library for studying autonomous and communicative agents using large language models. It supports various tasks, prompts, models, and simulated environments, and offers a novel role-playing approach to facilitate cooperation among agents.\\\\\\', \\\\\\'url\\\\\\': \\\\\\'https://github.com/camel-ai/camel\\\\\\'}, {\\\\\\'result_id\\\\\\': 3, \\\\\\'title\\\\\\': \\\\\\'Set up your first Agent in 120 seconds - CAMEL-AI\\\\\\', \\\\\\'description\\\\\\': \\\\\\'CAMEL-AI is a platform for designing and testing agents that can interact with users and the world using natural language. Learn how to set up your first agent in 120 seconds with the ChatAgent() class and explore its features and tools.\\\\\\', \\\\\\'url\\\\\\': \\\\\\'https://www.camel-ai.org/post/getting-started-with-camel-ai\\\\\\'}, {\\\\\\'result_id\\\\\\': 4, \\\\\\'title\\\\\\': \\\\\\'camel-ai.org · GitHub\\\\\\', \\\\\\'description\\\\\\': \\\\\\'CAMEL-AI.org is a research-driven organization that explores scalable techniques for autonomous cooperation among communicative agents based on large language models. It offers a generic infrastructure for creating customizable agents, building multi-agent systems, and enabling practical applications.\\\\\\', \\\\\\'url\\\\\\': \\\\\\'https://github.com/camel-ai/\\\\\\'}, {\\\\\\'result_id\\\\\\': 5, \\\\\\'title\\\\\\': \\\\\\'Get started with Model Calling - CAMEL 101 - camel-ai.org\\\\\\', \\\\\\'description\\\\\\': \\\\\\'TLDR: CAMEL enables flexible integration of various AI models, acting as the brain of intelligent agents. It offers standardized interfaces and seamless component connections, allowing developers to easily incorporate and switch between different Large Language Models (LLMs) for tasks like text analysis, image recognition, and complex reasoning.\\\\\\', \\\\\\'url\\\\\\': \\\\\\'https://www.camel-ai.org/post/get-started-with-models---camel-101\\\\\\'}]\\'}}'},\n",
              "  {'role': 'assistant',\n",
              "   'content': \"CAMEL AI is an open-source platform designed for building and customizing agents that utilize language models for various tasks, including data generation, automation, and simulations. Here are some key points about CAMEL AI:\\n\\n1. **Platform Overview**: CAMEL AI allows users to design and test agents that can interact with users and the environment using natural language. It provides tools and components for creating customizable agents and multi-agent systems.\\n\\n2. **Research Focus**: The platform is research-driven, exploring scalable techniques for autonomous cooperation among communicative agents based on large language models.\\n\\n3. **Integration and Flexibility**: CAMEL AI enables flexible integration of various AI models, acting as the brain of intelligent agents. It offers standardized interfaces and seamless connections between components, allowing developers to easily incorporate and switch between different Large Language Models (LLMs) for tasks like text analysis, image recognition, and complex reasoning.\\n\\n4. **Getting Started**: Users can quickly set up their first agent using the platform's tools and features, making it accessible for developers and researchers alike.\\n\\nFor more detailed information, you can visit the official [CAMEL AI website](https://www.camel-ai.org/) or their [GitHub repository](https://github.com/camel-ai/camel).\"},\n",
              "  {'role': 'assistant',\n",
              "   'content': 'This is a new user message would add to agent memory'}],\n",
              " 1006)"
            ]
          },
          "execution_count": 11,
          "metadata": {},
          "output_type": "execute_result"
        }
      ],
      "source": [
        "# Check the current memory\n",
        "agent.memory.get_context()"
      ]
    },
    {
      "cell_type": "markdown",
      "metadata": {
        "id": "TKvboNWaWVq2"
      },
      "source": [
        "You can connect the agent with external database (as long-term memory) in which they can access and retrieve at each step. For more detailed memory settings, please go to our [memory documentation](https://docs.camel-ai.org/key_modules/memory.html)."
      ]
    },
    {
      "cell_type": "markdown",
      "metadata": {
        "id": "OY657qftWXtI"
      },
      "source": [
        "### Miscs\n",
        "\n",
        "- Setting the agent to its initial state.\n",
        "\n",
        "    ```python\n",
        "    agent.reset()\n",
        "    ```\n",
        "\n",
        "- Set the output language for the agent.\n",
        "\n",
        "    ```python\n",
        "    agent.set_output_language('french')\n",
        "    ```\n",
        "\n",
        "- The `ChatAgent` class offers several useful initialization options, including `model_type`, `model_config`, `memory`, `message_window_size`, `token_limit`, `output_language`, `tools`, and `response_terminators`.\n",
        "\n",
        "Check [chat_agent.py](https://github.com/camel-ai/camel/blob/master/camel/agents/chat_agent.py) for detailed usage guidance."
      ]
    },
    {
      "cell_type": "markdown",
      "metadata": {},
      "source": [
        "## 🌟 Highlights"
      ]
    },
    {
      "cell_type": "markdown",
      "metadata": {},
      "source": [
        "This notebook has guided you through setting up and exploring The CAMEL `ChatAgent()` and it's features.\n",
        "\n",
        "Key tools utilized in this notebook include:\n",
        "\n",
        "* **CAMEL**: A powerful multi-agent framework that enables Retrieval-Augmented Generation and multi-agent role-playing scenarios, allowing for sophisticated AI-driven tasks.\n",
        "\n",
        "* **ChatAgent()**: The class is a cornerstone of CAMEL. "
      ]
    },
    {
      "cell_type": "markdown",
      "metadata": {},
      "source": [
        "That's everything: Got questions about 🐫 CAMEL-AI? Join us on [Discord](https://discord.camel-ai.org)! Whether you want to share feedback, explore the latest in multi-agent systems, get support, or connect with others on exciting projects, we’d love to have you in the community! 🤝\n",
        "\n",
        "Check out some of our other work:\n",
        "\n",
        "1. 🐫 Creating Your First CAMEL Agent [free Colab](https://docs.camel-ai.org/cookbooks/create_your_first_agent.html)\n",
        "\n",
        "2.  Graph RAG Cookbook [free Colab](https://colab.research.google.com/drive/1uZKQSuu0qW6ukkuSv9TukLB9bVaS1H0U?usp=sharing)\n",
        "\n",
        "3. 🧑‍⚖️ Create A Hackathon Judge Committee with Workforce [free Colab](https://colab.research.google.com/drive/18ajYUMfwDx3WyrjHow3EvUMpKQDcrLtr?usp=sharing)\n",
        "\n",
        "4. 🔥 3 ways to ingest data from websites with Firecrawl & CAMEL [free Colab](https://colab.research.google.com/drive/1lOmM3VmgR1hLwDKdeLGFve_75RFW0R9I?usp=sharing)\n",
        "\n",
        "5. 🦥 Agentic SFT Data Generation with CAMEL and Mistral Models, Fine-Tuned with Unsloth [free Colab](https://colab.research.google.com/drive/1lYgArBw7ARVPSpdwgKLYnp_NEXiNDOd-?usp=sharingg)\n",
        "\n",
        "Thanks from everyone at 🐫 CAMEL-AI\n",
        "\n",
        "\n",
        "<div class=\"align-center\">\n",
        "  <a href=\"https://www.camel-ai.org/\"><img src=\"https://i.postimg.cc/KzQ5rfBC/button.png\"width=\"150\"></a>\n",
        "  <a href=\"https://discord.camel-ai.org\"><img src=\"https://i.postimg.cc/L4wPdG9N/join-2.png\"  width=\"150\"></a></a>\n",
        "  \n",
        "⭐ <i>Star us on [*Github*](https://github.com/camel-ai/camel), join our [*Discord*](https://discord.camel-ai.org) or follow our [*X*](https://x.com/camelaiorg)\n",
        "</div>\n"
      ]
    },
    {
      "cell_type": "markdown",
      "metadata": {},
      "source": []
    }
  ],
  "metadata": {
    "colab": {
      "provenance": []
    },
    "kernelspec": {
      "display_name": "Python (camel-ai)",
      "language": "python",
      "name": "camel-ai"
    },
    "language_info": {
      "codemirror_mode": {
        "name": "ipython",
        "version": 3
      },
      "file_extension": ".py",
      "mimetype": "text/x-python",
      "name": "python",
      "nbconvert_exporter": "python",
      "pygments_lexer": "ipython3",
      "version": "3.10.16"
    }
  },
  "nbformat": 4,
  "nbformat_minor": 0
}
